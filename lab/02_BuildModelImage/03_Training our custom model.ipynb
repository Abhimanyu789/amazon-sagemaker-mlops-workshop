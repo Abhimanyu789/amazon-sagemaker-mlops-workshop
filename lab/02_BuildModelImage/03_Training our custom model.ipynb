{
 "cells": [
  {
   "cell_type": "markdown",
   "metadata": {},
   "source": [
    "# Now, we can start a new training job\n",
    "\n",
    "We'll send a zip file called **trainingjob.zip**, with the following structure:\n",
    " - trainingjob.json (Sagemaker training job descriptor)\n",
    " - assets/deploy-model-prd.yml (Cloudformation for deploying our model into Production)\n",
    " - assets/deploy-model-dev.yml (Cloudformation for deploying our model into Development)"
   ]
  },
  {
   "cell_type": "markdown",
   "metadata": {},
   "source": [
    "## Let's start by defining the hyperparameters for both algorithms"
   ]
  },
  {
   "cell_type": "code",
   "execution_count": 1,
   "metadata": {},
   "outputs": [],
   "source": [
    "hyperparameters = {\n",
    "    \"logistic_max_iter\": 100,\n",
    "    \"logistic_solver\": \"lbfgs\",\n",
    "\n",
    "    \"random_forest_max_depth\": 10,\n",
    "    \"random_forest_n_jobs\": 5,\n",
    "    \"random_forest_verbose\": 1\n",
    "}"
   ]
  },
  {
   "cell_type": "code",
   "execution_count": 4,
   "metadata": {},
   "outputs": [
    {
     "name": "stdout",
     "output_type": "stream",
     "text": [
      "\u001b[37m# aws cloudformation delete-stack --stack-name iris-model-dev\u001b[39;49;00m\r\n",
      "\u001b[37m# aws cloudformation create-stack --stack-name iris-model-dev --template-body file://deploy-model-dev.yml --parameters file://deploy-model-dev.json\u001b[39;49;00m\r\n",
      "\r\n",
      "Description: Deploy a model at Sagemaker\r\n",
      "Parameters:\r\n",
      "  ImageRepoName:\r\n",
      "    Type: String\r\n",
      "    Description: Name of the model image ECR (Docker) repo\r\n",
      "  ImageTagName:\r\n",
      "    Type: String\r\n",
      "    Description: Name of the model image ECR (Docker) tag\r\n",
      "  ModelName:\r\n",
      "    Type: String\r\n",
      "    Description: Name of the model\r\n",
      "  TrainJobId:\r\n",
      "    Type: String\r\n",
      "    Description: Id of the Codepipeline + SagemakerJobs\r\n",
      "    \r\n",
      "Resources:\r\n",
      "  Model:\r\n",
      "    Type: \u001b[33m\"\u001b[39;49;00m\u001b[33mAWS::SageMaker::Model\u001b[39;49;00m\u001b[33m\"\u001b[39;49;00m\r\n",
      "    Properties:\r\n",
      "      ModelName: \u001b[36m!Sub\u001b[39;49;00m mlops-${ModelName}-${TrainJobId}\r\n",
      "      PrimaryContainer:\r\n",
      "        Image: \u001b[36m!Sub\u001b[39;49;00m ${AWS::AccountId}.dkr.ecr.${AWS::Region}.amazonaws.com/${ImageRepoName}:${ImageTagName}\r\n",
      "        ModelDataUrl: \u001b[36m!Sub\u001b[39;49;00m s3://sagemaker-${AWS::Region}-${AWS::AccountId}/${ModelName}/mlops-${ModelName}-${TrainJobId}/output/model.tar.gz\r\n",
      "      ExecutionRoleArn: \u001b[36m!Sub\u001b[39;49;00m arn:aws:iam::${AWS::AccountId}:role/MLOps\r\n",
      "  \r\n",
      "  EndpointConfig:\r\n",
      "    Type: \u001b[33m\"\u001b[39;49;00m\u001b[33mAWS::SageMaker::EndpointConfig\u001b[39;49;00m\u001b[33m\"\u001b[39;49;00m\r\n",
      "    Properties:\r\n",
      "      ProductionVariants:\r\n",
      "      - InitialInstanceCount: 1\r\n",
      "        InitialVariantWeight: 1.0\r\n",
      "        InstanceType: ml.t2.large\r\n",
      "        ModelName: \u001b[36m!GetAtt\u001b[39;49;00m Model.ModelName\r\n",
      "        VariantName: \u001b[36m!GetAtt\u001b[39;49;00m Model.ModelName\r\n",
      "          \r\n",
      "      EndpointConfigName: \u001b[36m!Sub\u001b[39;49;00m mlops-ec-${ModelName}-dev-${TrainJobId}\r\n",
      "      Tags:\r\n",
      "        - Key: Name\r\n",
      "          Value: \u001b[36m!Sub\u001b[39;49;00m mlops-ec-${ModelName}-dev-${TrainJobId}\r\n",
      "    DependsOn: Model\r\n",
      "\r\n",
      "  Endpoint:\r\n",
      "    Type: \u001b[33m\"\u001b[39;49;00m\u001b[33mAWS::SageMaker::Endpoint\u001b[39;49;00m\u001b[33m\"\u001b[39;49;00m\r\n",
      "    Properties:\r\n",
      "      EndpointName: \u001b[36m!Sub\u001b[39;49;00m mlops-${ModelName}-dev-${TrainJobId}\r\n",
      "      EndpointConfigName: \u001b[36m!GetAtt\u001b[39;49;00m EndpointConfig.EndpointConfigName\r\n",
      "      Tags:\r\n",
      "        - Key: Name\r\n",
      "          Value: \u001b[36m!Sub\u001b[39;49;00m mlops-${ModelName}-dev-${TrainJobId}\r\n",
      "    DependsOn: EndpointConfig\r\n",
      "\r\n",
      "  \r\n",
      "\r\n",
      "  \r\n"
     ]
    }
   ],
   "source": [
    "!pygmentize ../../assets/deploy-model-dev.yml"
   ]
  },
  {
   "cell_type": "markdown",
   "metadata": {},
   "source": [
    "## Then, let's  create the trainingjob descriptor"
   ]
  },
  {
   "cell_type": "code",
   "execution_count": null,
   "metadata": {
    "scrolled": true
   },
   "outputs": [],
   "source": [
    "import time\n",
    "import sagemaker\n",
    "import boto3\n",
    "\n",
    "sts_client = boto3.client(\"sts\")\n",
    "\n",
    "model_prefix='iris-model'\n",
    "account_id = sts_client.get_caller_identity()[\"Account\"]\n",
    "region = boto3.session.Session().region_name\n",
    "training_image = '{}.dkr.ecr.{}.amazonaws.com/{}:latest'.format(account_id, region, model_prefix)\n",
    "roleArn = \"arn:aws:iam::{}:role/MLOps\".format(account_id)\n",
    "timestamp = time.strftime('-%Y-%m-%d-%H-%M-%S', time.gmtime())\n",
    "job_name = model_prefix + timestamp\n",
    "sagemaker_session = sagemaker.Session()\n",
    "\n",
    "training_params = {}\n",
    "\n",
    "# Here we set the reference for the Image Classification Docker image, stored on ECR (https://aws.amazon.com/pt/ecr/)\n",
    "training_params[\"AlgorithmSpecification\"] = {\n",
    "    \"TrainingImage\": training_image,\n",
    "    \"TrainingInputMode\": \"File\"\n",
    "}\n",
    "\n",
    "# The IAM role with all the permissions given to Sagemaker\n",
    "training_params[\"RoleArn\"] = roleArn\n",
    "\n",
    "# Here Sagemaker will store the final trained model\n",
    "training_params[\"OutputDataConfig\"] = {\n",
    "    \"S3OutputPath\": 's3://{}/{}'.format(sagemaker_session.default_bucket(), model_prefix)\n",
    "}\n",
    "\n",
    "# This is the config of the instance that will execute the training\n",
    "training_params[\"ResourceConfig\"] = {\n",
    "    \"InstanceCount\": 1,\n",
    "    \"InstanceType\": \"ml.m4.xlarge\",\n",
    "    \"VolumeSizeInGB\": 30\n",
    "}\n",
    "\n",
    "# The job name. You'll see this name in the Jobs section of the Sagemaker's console\n",
    "training_params[\"TrainingJobName\"] = job_name\n",
    "\n",
    "for i in hyperparameters:\n",
    "    hyperparameters[i] = str(hyperparameters[i])\n",
    "    \n",
    "# Here you will configure the hyperparameters used for training your model.\n",
    "training_params[\"HyperParameters\"] = hyperparameters\n",
    "\n",
    "# Training timeout\n",
    "training_params[\"StoppingCondition\"] = {\n",
    "    \"MaxRuntimeInSeconds\": 360000\n",
    "}\n",
    "\n",
    "# The algorithm currently only supports fullyreplicated model (where data is copied onto each machine)\n",
    "training_params[\"InputDataConfig\"] = []\n",
    "\n",
    "# Please notice that we're using application/x-recordio for both \n",
    "# training and validation datasets, given our dataset is formated in RecordIO\n",
    "\n",
    "# Here we set training dataset\n",
    "# Training data should be inside a subdirectory called \"train\"\n",
    "training_params[\"InputDataConfig\"].append({\n",
    "    \"ChannelName\": \"training\",\n",
    "    \"DataSource\": {\n",
    "        \"S3DataSource\": {\n",
    "            \"S3DataType\": \"S3Prefix\",\n",
    "            \"S3Uri\": 's3://{}/{}/input'.format(sagemaker_session.default_bucket(), model_prefix),\n",
    "            \"S3DataDistributionType\": \"FullyReplicated\"\n",
    "        }\n",
    "    },\n",
    "    \"ContentType\": \"text/csv\",\n",
    "    \"CompressionType\": \"None\"\n",
    "})\n",
    "training_params[\"Tags\"] = []"
   ]
  },
  {
   "cell_type": "markdown",
   "metadata": {},
   "source": [
    "## Before we start the training process, we need to upload our dataset to S3"
   ]
  },
  {
   "cell_type": "code",
   "execution_count": null,
   "metadata": {},
   "outputs": [],
   "source": [
    "import sagemaker\n",
    "\n",
    "# Get the current Sagemaker session\n",
    "sagemaker_session = sagemaker.Session()\n",
    "\n",
    "default_bucket = sagemaker_session.default_bucket()\n",
    "role = sagemaker.get_execution_role()\n",
    "\n",
    "\n",
    "!mkdir -p input/data/training\n",
    "\n",
    "import pandas as pd\n",
    "import numpy as np\n",
    "\n",
    "from sklearn import datasets\n",
    "iris = datasets.load_iris()\n",
    "\n",
    "dataset = np.insert(iris.data, 0, iris.target,axis=1)\n",
    "\n",
    "pd = pd.DataFrame(data=dataset, columns=['iris_id'] + iris.feature_names)\n",
    "pd.to_csv('input/data/training/iris.csv', header=None, index=False, sep=',', encoding='utf-8')\n",
    "\n",
    "data_location = sagemaker_session.upload_data(path='input/data/training', key_prefix='iris-model/input')"
   ]
  },
  {
   "cell_type": "markdown",
   "metadata": {},
   "source": [
    "## Alright! Now it's time to start the training process"
   ]
  },
  {
   "cell_type": "code",
   "execution_count": null,
   "metadata": {},
   "outputs": [],
   "source": [
    "import boto3\n",
    "import io\n",
    "import zipfile\n",
    "import json\n",
    "\n",
    "s3 = boto3.client('s3')\n",
    "sts_client = boto3.client(\"sts\")\n",
    "\n",
    "session = boto3.session.Session()\n",
    "\n",
    "account_id = sts_client.get_caller_identity()[\"Account\"]\n",
    "region = session.region_name\n",
    "\n",
    "bucket_name = \"mlops-%s-%s\" % (region, account_id)\n",
    "key_name = \"training_jobs/iris_model/trainingjob.zip\"\n",
    "\n",
    "zip_buffer = io.BytesIO()\n",
    "with zipfile.ZipFile(zip_buffer, 'a') as zf:\n",
    "    zf.writestr('trainingjob.json', json.dumps(training_params))\n",
    "    zf.writestr('assets/deploy-model-prd.yml', open('../../assets/deploy-model-prd.yml', 'r').read())\n",
    "    zf.writestr('assets/deploy-model-dev.yml', open('../../assets/deploy-model-dev.yml', 'r').read())\n",
    "\n",
    "zip_buffer.seek(0)\n",
    "\n",
    "s3.put_object(Bucket=bucket_name, Key=key_name, Body=bytearray(zip_buffer.read()))"
   ]
  },
  {
   "cell_type": "markdown",
   "metadata": {},
   "source": [
    "### Ok, now open the AWS console in another tab and go to the CodePipeline console to see the status of our building pipeline"
   ]
  },
  {
   "cell_type": "markdown",
   "metadata": {},
   "source": [
    "> Finally, click here [NOTEBOOK](04_Check%20Progress%20and%20Test%20the%20endpoint.ipynb) to see the progress and test your endpoint"
   ]
  }
 ],
 "metadata": {
  "kernelspec": {
   "display_name": "conda_python3",
   "language": "python",
   "name": "conda_python3"
  },
  "language_info": {
   "codemirror_mode": {
    "name": "ipython",
    "version": 3
   },
   "file_extension": ".py",
   "mimetype": "text/x-python",
   "name": "python",
   "nbconvert_exporter": "python",
   "pygments_lexer": "ipython3",
   "version": "3.6.5"
  }
 },
 "nbformat": 4,
 "nbformat_minor": 2
}
